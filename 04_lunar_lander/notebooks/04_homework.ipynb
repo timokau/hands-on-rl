{
 "cells": [
  {
   "cell_type": "markdown",
   "id": "b6d085cf",
   "metadata": {},
   "source": [
    "# 04 Homework 🏋️🏋️🏋️"
   ]
  },
  {
   "cell_type": "markdown",
   "id": "1ff8f476",
   "metadata": {},
   "source": [
    "#### 👉A course without homework is not a course!\n",
    "\n",
    "#### 👉Spend some time thinking and trying to implement the challenges I propose here."
   ]
  },
  {
   "cell_type": "markdown",
   "id": "b7bbbc0a",
   "metadata": {},
   "source": [
    "-----"
   ]
  },
  {
   "cell_type": "markdown",
   "id": "4b84a5fa",
   "metadata": {},
   "source": [
    "## 1. Can you find a smaller network that solves this environment?\n",
    "\n",
    "I used one hidden layer with 64 units, but I have the feeling this  was an overkill."
   ]
  },
  {
   "cell_type": "markdown",
   "id": "4a6b56c9",
   "metadata": {},
   "source": [
    "## 2. Can you speed up converge by properly tunning the `batch_size`?"
   ]
  }
 ],
 "metadata": {
  "kernelspec": {
   "display_name": "Python 3 (ipykernel)",
   "language": "python",
   "name": "python3"
  }
 },
 "nbformat": 4,
 "nbformat_minor": 5
}
