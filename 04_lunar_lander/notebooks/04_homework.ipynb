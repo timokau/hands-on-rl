{
 "cells": [
  {
   "cell_type": "markdown",
   "id": "0dff3f9d",
   "metadata": {},
   "source": [
    "# 04 Homework 🏋️🏋️🏋️"
   ]
  },
  {
   "cell_type": "markdown",
   "id": "df2ae75e",
   "metadata": {},
   "source": [
    "#### 👉A course without homework is not a course!\n",
    "\n",
    "#### 👉Spend some time thinking and trying to implement the challenges I propose here."
   ]
  },
  {
   "cell_type": "markdown",
   "id": "26be6e43",
   "metadata": {},
   "source": [
    "-----"
   ]
  },
  {
   "cell_type": "markdown",
   "id": "477c1647",
   "metadata": {},
   "source": [
    "## 1. Can you find a smaller network that solves this environment?\n",
    "\n",
    "I used one hidden layer with 64 units, but I have the feeling this  was an overkill."
   ]
  },
  {
   "cell_type": "markdown",
   "id": "33f30604",
   "metadata": {},
   "source": [
    "## 2. Can you speed up converge by properly tunning the `batch_size`?"
   ]
  }
 ],
 "metadata": {
  "kernelspec": {
   "display_name": "Python 3 (ipykernel)",
   "language": "python",
   "name": "python3"
  }
 },
 "nbformat": 4,
 "nbformat_minor": 5
}
