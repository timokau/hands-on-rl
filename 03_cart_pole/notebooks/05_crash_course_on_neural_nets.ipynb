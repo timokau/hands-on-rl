{
 "cells": [
  {
   "cell_type": "markdown",
   "id": "2327e48d",
   "metadata": {},
   "source": [
    "# 05 Crash course on Neural Nets\n",
    "\n",
    "## Skip this lecture if you think you are a Deep Learning master\n",
    "\n",
    "#### 👉 Let's train a few neural network models in a supervised setting.\n",
    "\n",
    "#### 👉 In Supervised Machine Learning you have input features and target values. And the goal is to find the *right* mapping between input features and target values.\n",
    "\n",
    "#### 👉Neural networks are usually highly-parametric models that are able to fit complex patterns between the input features and the target.\n",
    "\n",
    "#### 👉 The type of neural network we will use is a Multi Layer Perceptron (MLP). MLPs are stacks of linear models, interleaved with *activation functions.*"
   ]
  },
  {
   "cell_type": "code",
   "execution_count": null,
   "id": "6e90146f",
   "metadata": {},
   "outputs": [],
   "source": [
    "%load_ext autoreload\n",
    "%autoreload 2\n",
    "%pylab inline\n",
    "%config InlineBackend.figure_format = 'svg'"
   ]
  },
  {
   "cell_type": "markdown",
   "id": "99857999",
   "metadata": {},
   "source": [
    "## Environment 🌎"
   ]
  },
  {
   "cell_type": "code",
   "execution_count": null,
   "id": "6d523f94",
   "metadata": {},
   "outputs": [],
   "source": [
    "import gymnasium as gym\n",
    "env = gym.make('CartPole-v1')"
   ]
  },
  {
   "cell_type": "markdown",
   "id": "278c0367",
   "metadata": {},
   "source": [
    "# 1. Data\n",
    "\n",
    "Steps to generate the train data and test data we will need to build the neural network, and to evaluate it."
   ]
  },
  {
   "cell_type": "markdown",
   "id": "542813b3",
   "metadata": {},
   "source": [
    "## 1.1 Download the agent parameters from Google Drive 📩"
   ]
  },
  {
   "cell_type": "code",
   "execution_count": null,
   "id": "0466d974",
   "metadata": {},
   "outputs": [],
   "source": [
    "from src.supervised_ml import download_agent_parameters\n",
    "\n",
    "path_to_agent_data = download_agent_parameters()\n",
    "print(f'path_to_agent_data={path_to_agent_data}')"
   ]
  },
  {
   "cell_type": "markdown",
   "id": "dbf05104",
   "metadata": {},
   "source": [
    "## 1.2 Create `QAgent` object from the parameters (and hyper-parameters) we just downloaded"
   ]
  },
  {
   "cell_type": "code",
   "execution_count": null,
   "id": "51884b42",
   "metadata": {},
   "outputs": [],
   "source": [
    "from src.q_agent import QAgent\n",
    "\n",
    "agent = QAgent.load_from_disk(env, path=path_to_agent_data)"
   ]
  },
  {
   "cell_type": "markdown",
   "id": "7ea89c98",
   "metadata": {},
   "source": [
    "## 1.3 Let's check it works like a charm"
   ]
  },
  {
   "cell_type": "code",
   "execution_count": null,
   "id": "bacd0628",
   "metadata": {},
   "outputs": [],
   "source": [
    "from src.utils import set_seed\n",
    "set_seed(env, 1234)\n",
    "\n",
    "from src.loops import evaluate\n",
    "rewards, steps = evaluate(\n",
    "    agent, env,\n",
    "    n_episodes=1000,\n",
    "    epsilon=0.0 # 100% greedy strategy\n",
    ")"
   ]
  },
  {
   "cell_type": "code",
   "execution_count": null,
   "id": "505222f1",
   "metadata": {},
   "outputs": [],
   "source": [
    "import matplotlib.pyplot as plt\n",
    "import pandas as pd\n",
    "\n",
    "fig, ax = plt.subplots(figsize = (10, 4))\n",
    "ax.set_title(\"Rewards\")    \n",
    "pd.Series(rewards).plot(kind='hist', bins=100)\n",
    "\n",
    "plt.show()"
   ]
  },
  {
   "cell_type": "markdown",
   "id": "ebd73bcc",
   "metadata": {},
   "source": [
    "## 1.4 Generate train data -->  `train.csv`"
   ]
  },
  {
   "cell_type": "code",
   "execution_count": null,
   "id": "3d98b21a",
   "metadata": {},
   "outputs": [],
   "source": [
    "from src.supervised_ml import generate_state_action_data\n",
    "from src.config import DATA_SUPERVISED_ML\n",
    "\n",
    "n_samples_train = 1000\n",
    "path_to_train_data = DATA_SUPERVISED_ML / 'train.csv'\n",
    "env.reset(seed=0)\n",
    "\n",
    "# we let the agent interact with the environment until we have\n",
    "# collected enough pairs (state, action)\n",
    "generate_state_action_data(env, agent,\n",
    "                           n_samples=n_samples_train,\n",
    "                           path=path_to_train_data)"
   ]
  },
  {
   "cell_type": "markdown",
   "id": "616a1661",
   "metadata": {},
   "source": [
    "## 1.5 Generate test data --> `test.csv`"
   ]
  },
  {
   "cell_type": "code",
   "execution_count": null,
   "id": "8e931971",
   "metadata": {},
   "outputs": [],
   "source": [
    "# test data\n",
    "n_samples_test = 1000\n",
    "path_to_test_data = DATA_SUPERVISED_ML / 'test.csv'\n",
    "\n",
    "# Very important to use another seed than for the\n",
    "# train set\n",
    "env.reset(seed=1)\n",
    "\n",
    "generate_state_action_data(env, agent, \n",
    "                           n_samples=n_samples_test,\n",
    "                           path=path_to_test_data)"
   ]
  },
  {
   "cell_type": "markdown",
   "id": "2cbce28b",
   "metadata": {},
   "source": [
    "-----"
   ]
  },
  {
   "cell_type": "markdown",
   "id": "de5b39dc",
   "metadata": {},
   "source": [
    "# 2. Let's train a few neural networks\n",
    "\n",
    "#### 👉We will try different neural network architecture, to see which one works best for our problem.\n",
    "#### 👉 Finding the right architecture is not an easy problem. This is one of the hard parts of training neural networks."
   ]
  },
  {
   "cell_type": "markdown",
   "id": "74306cb6",
   "metadata": {},
   "source": [
    "## Load `train.csv` and `test.csv` into 🐼"
   ]
  },
  {
   "cell_type": "code",
   "execution_count": null,
   "id": "f17fc3b4",
   "metadata": {},
   "outputs": [],
   "source": [
    "import pandas as pd\n",
    "\n",
    "train_data = pd.read_csv(path_to_train_data)\n",
    "test_data = pd.read_csv(path_to_test_data)"
   ]
  },
  {
   "cell_type": "markdown",
   "id": "2ae4c80e",
   "metadata": {},
   "source": [
    "## PyTorch datasets"
   ]
  },
  {
   "cell_type": "code",
   "execution_count": null,
   "id": "69faf72d",
   "metadata": {},
   "outputs": [],
   "source": [
    "from torch.utils.data import Dataset\n",
    "\n",
    "class OptimalPolicyDataset(Dataset):\n",
    "\n",
    "    def __init__(self, X: pd.DataFrame, y: pd.Series):\n",
    "        self.X = X\n",
    "        self.y = y\n",
    "\n",
    "    def __len__(self):\n",
    "        \"\"\"\n",
    "        Returns number of samples in the data\n",
    "        \"\"\"\n",
    "        return len(self.X)\n",
    "\n",
    "    def __getitem__(self, idx):\n",
    "        \"\"\"\n",
    "        Returns the features and label\n",
    "        of sample number `idx`\n",
    "        \"\"\"\n",
    "        return self.X.iloc[idx].values, self.y.iloc[idx]"
   ]
  },
  {
   "cell_type": "code",
   "execution_count": null,
   "id": "9d2f8f14",
   "metadata": {},
   "outputs": [],
   "source": [
    "# split features and labels\n",
    "X_train = train_data[['s0', 's1', 's2', 's3']]\n",
    "y_train = train_data['action']\n",
    "X_test = test_data[['s0', 's1', 's2', 's3']]\n",
    "y_test = test_data['action']\n",
    "\n",
    "# PyTorch datasets\n",
    "from src.supervised_ml import OptimalPolicyDataset\n",
    "train_dataset = OptimalPolicyDataset(X_train, y_train)\n",
    "test_dataset = OptimalPolicyDataset(X_test, y_test)"
   ]
  },
  {
   "cell_type": "markdown",
   "id": "561e7519",
   "metadata": {},
   "source": [
    "## PyTorch dataloaders"
   ]
  },
  {
   "cell_type": "code",
   "execution_count": null,
   "id": "e181d067",
   "metadata": {},
   "outputs": [],
   "source": [
    "BATCH_SIZE = 64\n",
    "\n",
    "# PyTorch dataloaders\n",
    "from torch.utils.data import DataLoader\n",
    "train_dataloader = DataLoader(train_dataset,\n",
    "                              batch_size=BATCH_SIZE,\n",
    "                              shuffle=True)\n",
    "test_dataloader = DataLoader(test_dataset,\n",
    "                             batch_size=BATCH_SIZE,\n",
    "                             shuffle=False)"
   ]
  },
  {
   "cell_type": "markdown",
   "id": "47e0af51",
   "metadata": {},
   "source": [
    "## Loss function\n",
    "#### 👉 The cross entropy is a common choice for classification problems"
   ]
  },
  {
   "cell_type": "code",
   "execution_count": null,
   "id": "8ba8f380",
   "metadata": {},
   "outputs": [],
   "source": [
    "import torch.nn as nn\n",
    "criterion = nn.CrossEntropyLoss()"
   ]
  },
  {
   "cell_type": "markdown",
   "id": "76a974e5",
   "metadata": {},
   "source": [
    "## Model 0: Baseline"
   ]
  },
  {
   "cell_type": "code",
   "execution_count": null,
   "id": "0507bc1c",
   "metadata": {},
   "outputs": [],
   "source": [
    "train_data['action'].value_counts()"
   ]
  },
  {
   "cell_type": "code",
   "execution_count": null,
   "id": "f480cea2",
   "metadata": {},
   "outputs": [],
   "source": [
    "test_data['action'].value_counts()"
   ]
  },
  {
   "cell_type": "markdown",
   "id": "6132e4a9",
   "metadata": {},
   "source": [
    "## Model 1: Linear model"
   ]
  },
  {
   "cell_type": "markdown",
   "id": "cbe34a30",
   "metadata": {},
   "source": [
    "### Model architecture 📐🏗️"
   ]
  },
  {
   "cell_type": "code",
   "execution_count": null,
   "id": "536f6b98",
   "metadata": {},
   "outputs": [],
   "source": [
    "import torch\n",
    "from src.model_factory import get_model, count_parameters\n",
    "\n",
    "# linear model --> no hidden_layers (hidden_layers = None)\n",
    "model = get_model(input_dim=4, output_dim=2, hidden_layers=None)\n",
    "\n",
    "# send the model to GPU if you have one.\n",
    "# GPUs have a very fast implementation of matrix multiplication,\n",
    "# which is the key operation to propagate inputs to outputs\n",
    "# in most neural network architectures\n",
    "device = torch.device(\"cuda\" if torch.cuda.is_available() else \"cpu\")\n",
    "model.to(device)\n",
    "\n",
    "print(f'{count_parameters(model):,} parameters')\n",
    "print(model)"
   ]
  },
  {
   "cell_type": "markdown",
   "id": "129d5212",
   "metadata": {},
   "source": [
    "![image](https://github.com/Paulescu/hands-on-rl/blob/main/03_cart_pole/images/linear_model_sml.jpg?raw=true)"
   ]
  },
  {
   "cell_type": "markdown",
   "id": "bd25b04e",
   "metadata": {},
   "source": [
    "### Train loop 🏋️"
   ]
  },
  {
   "cell_type": "code",
   "execution_count": null,
   "id": "2b0c941c",
   "metadata": {},
   "outputs": [],
   "source": [
    "# Tensorboard logger\n",
    "import time\n",
    "from src.supervised_ml import get_tensorboard_writer\n",
    "run_name = f'linear/{str(int(time.time()))}'\n",
    "tensorboard_writer = get_tensorboard_writer(run_name)\n",
    "\n",
    "# Adam is always a safe choice\n",
    "import torch.optim as optim\n",
    "optimizer = optim.Adam(model.parameters())\n",
    "\n",
    "# train_val_loop runs a full pass on the given data\n",
    "# (either train or test) and logs metrics to tensorboard\n",
    "from src.supervised_ml import get_train_val_loop\n",
    "train_val_loop = get_train_val_loop(model,\n",
    "                                    criterion,\n",
    "                                    optimizer,\n",
    "                                    tensorboard_writer)\n",
    "\n",
    "\n",
    "# call train_val_loop 150 times for training,\n",
    "# and 150 times for evaluating.\n",
    "N_EPOCHS = 150\n",
    "for epoch in range(N_EPOCHS):\n",
    "    # train\n",
    "    train_val_loop(is_train=True,\n",
    "                   dataloader=train_dataloader,\n",
    "                   epoch=epoch)\n",
    "\n",
    "    with torch.no_grad():\n",
    "        # validate\n",
    "        train_val_loop(is_train=False,\n",
    "                       dataloader=test_dataloader,\n",
    "                       epoch=epoch)\n",
    "\n",
    "    print('----------')"
   ]
  },
  {
   "cell_type": "markdown",
   "id": "c7f0fb5e",
   "metadata": {},
   "source": [
    "-------"
   ]
  },
  {
   "cell_type": "markdown",
   "id": "6ea353c1",
   "metadata": {},
   "source": [
    "## Model 2: Neural network with 1 hidden layer"
   ]
  },
  {
   "cell_type": "markdown",
   "id": "e8563a45",
   "metadata": {},
   "source": [
    "### Model architecture 📐🏗️"
   ]
  },
  {
   "cell_type": "code",
   "execution_count": null,
   "id": "a0b41a9a",
   "metadata": {},
   "outputs": [],
   "source": [
    "model = get_model(input_dim=4, output_dim=2, hidden_layers=[256])\n",
    "device = torch.device(\"cuda\" if torch.cuda.is_available() else \"cpu\")\n",
    "model.to(device)\n",
    "\n",
    "print(f'{count_parameters(model):,} parameters')\n",
    "print(model)"
   ]
  },
  {
   "cell_type": "markdown",
   "id": "c83ba339",
   "metadata": {},
   "source": [
    "![image](https://github.com/Paulescu/hands-on-rl/blob/main/03_cart_pole/images/nn_1_hidden_layer_sml.jpg?raw=true)"
   ]
  },
  {
   "cell_type": "markdown",
   "id": "ef9f7086",
   "metadata": {},
   "source": [
    "### Train loop 🏋️"
   ]
  },
  {
   "cell_type": "code",
   "execution_count": null,
   "id": "71d0f0ee",
   "metadata": {},
   "outputs": [],
   "source": [
    "# Tensoboard logger\n",
    "import time\n",
    "from src.supervised_ml import get_tensorboard_writer\n",
    "\n",
    "run_name = f'[256]/{str(int(time.time()))}'\n",
    "tensorboard_writer = get_tensorboard_writer(run_name)\n",
    "\n",
    "# Adam is always a safe choice\n",
    "import torch.optim as optim\n",
    "optimizer = optim.Adam(model.parameters())\n",
    "\n",
    "from src.supervised_ml import get_train_val_loop\n",
    "train_val_loop = get_train_val_loop(model, criterion, optimizer, tensorboard_writer)\n",
    "\n",
    "N_EPOCHS = 150\n",
    "\n",
    "for epoch in range(N_EPOCHS):\n",
    "    # train\n",
    "    train_val_loop(is_train=True, dataloader=train_dataloader, epoch=epoch)\n",
    "\n",
    "    with torch.no_grad():\n",
    "        # validate\n",
    "        train_val_loop(is_train=False, dataloader=test_dataloader, epoch=epoch)\n",
    "\n",
    "    print('----------')"
   ]
  },
  {
   "cell_type": "markdown",
   "id": "f02b710c",
   "metadata": {},
   "source": [
    "## Model 3: Neural network with 2 hidden layers"
   ]
  },
  {
   "cell_type": "markdown",
   "id": "a5737ec3",
   "metadata": {},
   "source": [
    "### Model architecture 📐🏗️"
   ]
  },
  {
   "cell_type": "code",
   "execution_count": null,
   "id": "7912e416",
   "metadata": {},
   "outputs": [],
   "source": [
    "model = get_model(input_dim=4, output_dim=2, hidden_layers=[256, 256])\n",
    "device = torch.device(\"cuda\" if torch.cuda.is_available() else \"cpu\")\n",
    "model.to(device)\n",
    "\n",
    "print(f'{count_parameters(model):,} parameters')\n",
    "print(model)"
   ]
  },
  {
   "cell_type": "markdown",
   "id": "130abf1d",
   "metadata": {},
   "source": [
    "![image](https://github.com/Paulescu/hands-on-rl/blob/main/03_cart_pole/images/nn_2_hidden_layers_sml.jpg?raw=true)"
   ]
  },
  {
   "cell_type": "markdown",
   "id": "0404c47c",
   "metadata": {},
   "source": [
    "### Train loop 🏋️"
   ]
  },
  {
   "cell_type": "code",
   "execution_count": null,
   "id": "d3f1203b",
   "metadata": {},
   "outputs": [],
   "source": [
    "# Tensoboard logger\n",
    "import time\n",
    "from src.supervised_ml import get_tensorboard_writer\n",
    "\n",
    "run_name = f'[256,256]/{str(int(time.time()))}'\n",
    "tensorboard_writer = get_tensorboard_writer(run_name)\n",
    "\n",
    "# Adam is always a safe choice\n",
    "import torch.optim as optim\n",
    "optimizer = optim.Adam(model.parameters())\n",
    "\n",
    "from src.supervised_ml import get_train_val_loop\n",
    "train_val_loop = get_train_val_loop(model, criterion, optimizer, tensorboard_writer)\n",
    "\n",
    "N_EPOCHS = 150\n",
    "\n",
    "for epoch in range(N_EPOCHS):\n",
    "    # train\n",
    "    train_val_loop(is_train=True, dataloader=train_dataloader, epoch=epoch)\n",
    "\n",
    "    with torch.no_grad():\n",
    "        # validate\n",
    "        train_val_loop(is_train=False, dataloader=test_dataloader, epoch=epoch)\n",
    "\n",
    "    print('----------')"
   ]
  },
  {
   "cell_type": "markdown",
   "id": "74d3bd39",
   "metadata": {},
   "source": [
    "-------"
   ]
  },
  {
   "cell_type": "markdown",
   "id": "60244b0f",
   "metadata": {},
   "source": [
    "## Model 4: Neural network with 3 hidden layers"
   ]
  },
  {
   "cell_type": "markdown",
   "id": "dabab9da",
   "metadata": {},
   "source": [
    "### Model architecture 📐🏗️"
   ]
  },
  {
   "cell_type": "code",
   "execution_count": null,
   "id": "fd8995a7",
   "metadata": {},
   "outputs": [],
   "source": [
    "model = get_model(input_dim=4, output_dim=2,\n",
    "                  hidden_layers=[256, 256, 256])\n",
    "device = torch.device(\"cuda\" if torch.cuda.is_available() else \"cpu\")\n",
    "model.to(device)\n",
    "\n",
    "print(f'{count_parameters(model):,} parameters')\n",
    "print(model)"
   ]
  },
  {
   "cell_type": "markdown",
   "id": "73ecd185",
   "metadata": {},
   "source": [
    "![image](https://github.com/Paulescu/hands-on-rl/blob/main/03_cart_pole/images/nn_3_hidden_layers_sml.jpg?raw=true)"
   ]
  },
  {
   "cell_type": "markdown",
   "id": "4d71b2dd",
   "metadata": {},
   "source": [
    "### Train loop 🏋️"
   ]
  },
  {
   "cell_type": "code",
   "execution_count": null,
   "id": "330bc963",
   "metadata": {},
   "outputs": [],
   "source": [
    "# Tensoboard logger\n",
    "import time\n",
    "from src.supervised_ml import get_tensorboard_writer\n",
    "\n",
    "run_name = f'[256,256,256]/{str(int(time.time()))}'\n",
    "tensorboard_writer = get_tensorboard_writer(run_name)\n",
    "\n",
    "# Adam is always a safe choice\n",
    "import torch.optim as optim\n",
    "optimizer = optim.Adam(model.parameters())\n",
    "\n",
    "from src.supervised_ml import get_train_val_loop\n",
    "train_val_loop = get_train_val_loop(model, criterion, optimizer, tensorboard_writer)\n",
    "\n",
    "N_EPOCHS = 150\n",
    "\n",
    "for epoch in range(N_EPOCHS):\n",
    "    # train\n",
    "    train_val_loop(is_train=True, dataloader=train_dataloader, epoch=epoch)\n",
    "\n",
    "    with torch.no_grad():\n",
    "        # validate\n",
    "        train_val_loop(is_train=False, dataloader=test_dataloader, epoch=epoch)\n",
    "\n",
    "    print('----------')"
   ]
  },
  {
   "cell_type": "markdown",
   "id": "75ac97dd",
   "metadata": {},
   "source": [
    "## Tensorboard ON to visualize train and validation curves"
   ]
  },
  {
   "cell_type": "code",
   "execution_count": null,
   "id": "c858430f",
   "metadata": {},
   "outputs": [],
   "source": [
    "from src.config import TENSORBOARD_LOG_DIR\n",
    "%load_ext tensorboard\n",
    "%tensorboard --logdir $TENSORBOARD_LOG_DIR"
   ]
  },
  {
   "cell_type": "code",
   "execution_count": null,
   "id": "02d2933f",
   "metadata": {},
   "outputs": [],
   "source": []
  }
 ],
 "metadata": {
  "kernelspec": {
   "display_name": "src-8fWkZ9tT-py3.12",
   "language": "python",
   "name": "python3"
  }
 },
 "nbformat": 4,
 "nbformat_minor": 5
}
