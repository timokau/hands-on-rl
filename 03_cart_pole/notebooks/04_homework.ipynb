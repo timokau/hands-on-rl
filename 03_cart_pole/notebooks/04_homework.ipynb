{
 "cells": [
  {
   "cell_type": "markdown",
   "id": "c4ea2d94",
   "metadata": {},
   "source": [
    "# 04 Homework 🏋️🏋️🏋️"
   ]
  },
  {
   "cell_type": "markdown",
   "id": "d5486001",
   "metadata": {},
   "source": [
    "#### 👉A course without homework is not a course!\n",
    "\n",
    "#### 👉Spend some time thinking and trying to implement the challenges I propose here."
   ]
  },
  {
   "cell_type": "markdown",
   "id": "131b9f79",
   "metadata": {},
   "source": [
    "# `plabartabajo@gmail.com`"
   ]
  },
  {
   "cell_type": "markdown",
   "id": "b7908b5c",
   "metadata": {},
   "source": [
    "-----"
   ]
  },
  {
   "cell_type": "markdown",
   "id": "c8197d86",
   "metadata": {},
   "source": [
    "## 1. Can you use 3 different `SEED` values and re-train the agent with good hyper-parameters?\n",
    "\n",
    "Do you still train a good agent? Or does the seed really affect the training outcome?"
   ]
  },
  {
   "cell_type": "markdown",
   "id": "67a5a2bf",
   "metadata": {},
   "source": [
    "## 2. Can you solve the `MountainCar-v0` environment using today's code?\n",
    "\n",
    "Are you able to score 99% on the evaluation set?"
   ]
  }
 ],
 "metadata": {
  "kernelspec": {
   "display_name": "Python 3 (ipykernel)",
   "language": "python",
   "name": "python3"
  }
 },
 "nbformat": 4,
 "nbformat_minor": 5
}
