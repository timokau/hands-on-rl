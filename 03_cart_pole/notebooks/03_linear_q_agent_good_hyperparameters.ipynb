{
 "cells": [
  {
   "cell_type": "markdown",
   "id": "6c901fe5",
   "metadata": {},
   "source": [
    "# 02 Linear Q agent\n",
    "\n",
    "#### 👉 Let's use a linear model to approximat the q-value function."
   ]
  },
  {
   "cell_type": "markdown",
   "id": "f18cd3eb",
   "metadata": {},
   "source": [
    "![linear_model.jpg](https://github.com/Paulescu/hands-on-rl/blob/main/03_cart_pole/images/linear_model.jpg?raw=true)"
   ]
  },
  {
   "cell_type": "code",
   "execution_count": null,
   "id": "e2aa52b0",
   "metadata": {},
   "outputs": [],
   "source": [
    "%load_ext autoreload\n",
    "%autoreload 2\n",
    "%pylab inline\n",
    "%config InlineBackend.figure_format = 'svg'"
   ]
  },
  {
   "cell_type": "markdown",
   "id": "035bfd2e",
   "metadata": {},
   "source": [
    "## Environment 🌎"
   ]
  },
  {
   "cell_type": "code",
   "execution_count": null,
   "id": "f18144ab",
   "metadata": {},
   "outputs": [],
   "source": [
    "import gymnasium as gym\n",
    "env = gym.make('CartPole-v1')"
   ]
  },
  {
   "cell_type": "markdown",
   "id": "b290a2eb",
   "metadata": {},
   "source": [
    "## Hyperparameters"
   ]
  },
  {
   "cell_type": "code",
   "execution_count": null,
   "id": "c4d6ba32",
   "metadata": {},
   "outputs": [],
   "source": [
    "# Good hyper-parameters\n",
    "# make you feel great!\n",
    "hparams = {\n",
    "    'learning_rate': 0.0005652080372498697,\n",
    "    'discount_factor': 0.99,\n",
    "    'batch_size': 64,\n",
    "    'memory_size': 100000,\n",
    "    'freq_steps_train': 128,\n",
    "    'freq_steps_update_target': 100,\n",
    "    'n_steps_warm_up_memory': 1000,\n",
    "    'n_gradient_steps': 4,\n",
    "    'max_grad_norm': 10,\n",
    "    'normalize_state': False,\n",
    "    'epsilon_start': 0.9,\n",
    "    'epsilon_end': 0.0429612235926375,\n",
    "    'steps_epsilon_decay': 1000\n",
    "}\n",
    "\n",
    "SEED = 2636569667"
   ]
  },
  {
   "cell_type": "markdown",
   "id": "7c366a70",
   "metadata": {},
   "source": [
    "## ⚠️ Fix random seeds"
   ]
  },
  {
   "cell_type": "code",
   "execution_count": null,
   "id": "4be66c99",
   "metadata": {},
   "outputs": [],
   "source": [
    "from src.utils import set_seed\n",
    "set_seed(env, SEED)"
   ]
  },
  {
   "cell_type": "markdown",
   "id": "4bf3a967",
   "metadata": {},
   "source": [
    "## QAgent"
   ]
  },
  {
   "cell_type": "code",
   "execution_count": null,
   "id": "b2518e8c",
   "metadata": {},
   "outputs": [],
   "source": [
    "from src.q_agent import QAgent\n",
    "agent = QAgent(env, **hparams)"
   ]
  },
  {
   "cell_type": "markdown",
   "id": "6e032a2c",
   "metadata": {},
   "source": [
    "## Train the agent 🏋️"
   ]
  },
  {
   "cell_type": "code",
   "execution_count": null,
   "id": "51b002f3",
   "metadata": {},
   "outputs": [],
   "source": [
    "from src.loops import train\n",
    "train(agent, env, n_episodes=2000)"
   ]
  },
  {
   "cell_type": "markdown",
   "id": "e81c1dfa",
   "metadata": {},
   "source": [
    "## Evaluate the agent ⏱️"
   ]
  },
  {
   "cell_type": "code",
   "execution_count": null,
   "id": "c71816f4",
   "metadata": {},
   "outputs": [],
   "source": [
    "from src.loops import evaluate\n",
    "rewards, steps = evaluate(\n",
    "    agent, env,\n",
    "    n_episodes=1000,\n",
    "    epsilon=0.00\n",
    ")"
   ]
  },
  {
   "cell_type": "code",
   "execution_count": null,
   "id": "bea3a63b",
   "metadata": {},
   "outputs": [],
   "source": [
    "import numpy as np\n",
    "reward_avg = np.array(rewards).mean()\n",
    "reward_std = np.array(rewards).std()\n",
    "print(f'Reward average {reward_avg:.2f}, std {reward_std:.2f}')"
   ]
  },
  {
   "cell_type": "markdown",
   "id": "bc88456e",
   "metadata": {},
   "source": [
    "## Let's see how far we got in each attempt"
   ]
  },
  {
   "cell_type": "code",
   "execution_count": null,
   "id": "64e82b44",
   "metadata": {},
   "outputs": [],
   "source": [
    "import matplotlib.pyplot as plt\n",
    "import pandas as pd\n",
    "\n",
    "fig, ax = plt.subplots(figsize = (10, 4))\n",
    "ax.set_title(\"Rewards\")    \n",
    "pd.Series(rewards).plot(kind='hist', bins=100)\n",
    "\n",
    "plt.show()"
   ]
  },
  {
   "cell_type": "markdown",
   "id": "2961ee5d",
   "metadata": {},
   "source": [
    "## Let's see our agent in action 🎬"
   ]
  },
  {
   "cell_type": "code",
   "execution_count": null,
   "id": "25dcb8fb",
   "metadata": {},
   "outputs": [],
   "source": [
    "# Workaround for pygame error: \"error: No available video device\"\n",
    "# See https://stackoverflow.com/questions/15933493/pygame-error-no-available-video-device?rq=1\n",
    "# This is probably needed only for Linux\n",
    "import os\n",
    "os.environ[\"SDL_VIDEODRIVER\"] = \"dummy\"\n",
    "from src.viz import show_video\n",
    "\n",
    "env = gym.make('CartPole-v1', render_mode=\"rgb_array\")\n",
    "show_video(agent, env, sleep_sec=0.01, seed=12345)"
   ]
  },
  {
   "cell_type": "code",
   "execution_count": null,
   "id": "62fa30e7",
   "metadata": {},
   "outputs": [],
   "source": [
    "eval_rewards, eval_steps = evaluate(\n",
    "    agent, env,\n",
    "    n_episodes=10,\n",
    "    epsilon=0.001\n",
    ")\n",
    "eval_rewards"
   ]
  },
  {
   "cell_type": "code",
   "execution_count": null,
   "id": "8bc254c9",
   "metadata": {},
   "outputs": [],
   "source": []
  }
 ],
 "metadata": {
  "kernelspec": {
   "display_name": "src-8fWkZ9tT-py3.12",
   "language": "python",
   "name": "python3"
  }
 },
 "nbformat": 4,
 "nbformat_minor": 5
}
