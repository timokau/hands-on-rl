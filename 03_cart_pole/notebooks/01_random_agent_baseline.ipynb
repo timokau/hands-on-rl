{
 "cells": [
  {
   "cell_type": "markdown",
   "id": "a14bda66",
   "metadata": {},
   "source": [
    "# 01 Random agent baseline\n",
    "\n",
    "#### 👉Before you try to solve a Reinforcement Learning problem you should get a grasp of its difficulty.\n",
    "\n",
    "#### 👉 To do so, you need to design a dummy agent that can peform the task without much brains, and evaluate its performance.\n",
    "\n",
    "#### 👉A simple way to do so is by using a Random Agent, that chooses its next action randomly, without paying attention at the current state of the environment."
   ]
  },
  {
   "cell_type": "code",
   "execution_count": null,
   "id": "157d09fb",
   "metadata": {},
   "outputs": [],
   "source": [
    "%load_ext autoreload\n",
    "%autoreload 2\n",
    "%pylab inline\n",
    "%config InlineBackend.figure_format = 'svg'"
   ]
  },
  {
   "cell_type": "markdown",
   "id": "11383e4d",
   "metadata": {},
   "source": [
    "## Environment 🌎"
   ]
  },
  {
   "cell_type": "code",
   "execution_count": null,
   "id": "027dce73",
   "metadata": {},
   "outputs": [],
   "source": [
    "import gymnasium as gym\n",
    "env = gym.make('CartPole-v1')"
   ]
  },
  {
   "cell_type": "markdown",
   "id": "0b871206",
   "metadata": {},
   "source": [
    "## Random agent 🤖"
   ]
  },
  {
   "cell_type": "code",
   "execution_count": null,
   "id": "5a826d6d",
   "metadata": {},
   "outputs": [],
   "source": [
    "# If this import fails, run this in your shell and relaunch jupyter:\n",
    "# `export PYTHONPATH=\"..\"`\n",
    "from src.random_agent import RandomAgent\n",
    "agent = RandomAgent(env)"
   ]
  },
  {
   "cell_type": "markdown",
   "id": "612f433f",
   "metadata": {},
   "source": [
    "## Evaluate the agent ⏱️"
   ]
  },
  {
   "cell_type": "code",
   "execution_count": null,
   "id": "e3b9386e",
   "metadata": {},
   "outputs": [],
   "source": [
    "from src.loops import evaluate\n",
    "n_episodes = 1000\n",
    "rewards, steps = evaluate(agent, env, n_episodes)"
   ]
  },
  {
   "cell_type": "code",
   "execution_count": null,
   "id": "d875174a",
   "metadata": {},
   "outputs": [],
   "source": [
    "reward_avg = np.array(rewards).mean()\n",
    "reward_std = np.array(rewards).std()\n",
    "print(f'Reward average {reward_avg:.2f}, std {reward_std:.2f}')"
   ]
  },
  {
   "cell_type": "markdown",
   "id": "5deb4e60",
   "metadata": {},
   "source": [
    "## Let's see how far we got in each attempt"
   ]
  },
  {
   "cell_type": "code",
   "execution_count": null,
   "id": "41598de6",
   "metadata": {},
   "outputs": [],
   "source": [
    "import matplotlib.pyplot as plt\n",
    "import pandas as pd\n",
    "\n",
    "fig, ax = plt.subplots(figsize = (10, 4))\n",
    "ax.set_title(\"Rewards\")    \n",
    "pd.Series(rewards).plot(kind='hist', bins=100)\n",
    "\n",
    "plt.show()"
   ]
  },
  {
   "cell_type": "markdown",
   "id": "5aafd92c",
   "metadata": {},
   "source": [
    "## Let's see our agent in action 🎬"
   ]
  },
  {
   "cell_type": "code",
   "execution_count": null,
   "id": "eae06149",
   "metadata": {
    "lines_to_next_cell": 0
   },
   "outputs": [],
   "source": [
    "# Workaround for pygame error: \"error: No available video device\"\n",
    "# See https://stackoverflow.com/questions/15933493/pygame-error-no-available-video-device?rq=1\n",
    "# This is probably needed only for Linux\n",
    "import os\n",
    "os.environ[\"SDL_VIDEODRIVER\"] = \"dummy\"\n",
    "from src.viz import show_video\n",
    "\n",
    "env = gym.make('CartPole-v1', render_mode='rgb_array')\n",
    "show_video(agent, env, sleep_sec=0.01, seed=0)"
   ]
  },
  {
   "cell_type": "code",
   "execution_count": null,
   "id": "7c6bb79f",
   "metadata": {
    "lines_to_next_cell": 2
   },
   "outputs": [],
   "source": []
  }
 ],
 "metadata": {
  "kernelspec": {
   "display_name": "src-8fWkZ9tT-py3.12",
   "language": "python",
   "name": "python3"
  }
 },
 "nbformat": 4,
 "nbformat_minor": 5
}
