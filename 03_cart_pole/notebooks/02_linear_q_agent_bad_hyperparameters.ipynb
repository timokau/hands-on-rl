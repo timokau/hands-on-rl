{
 "cells": [
  {
   "cell_type": "markdown",
   "id": "4a3c9bb7",
   "metadata": {},
   "source": [
    "# 02 Linear Q agent\n",
    "\n",
    "#### 👉 Let's use a linear model to approximate the q-value function."
   ]
  },
  {
   "cell_type": "markdown",
   "id": "317ecad8",
   "metadata": {},
   "source": [
    "![linear_model.jpg](attachment:linear_model.jpg)"
   ]
  },
  {
   "cell_type": "code",
   "execution_count": null,
   "id": "d9961116",
   "metadata": {},
   "outputs": [],
   "source": [
    "%load_ext autoreload\n",
    "%autoreload 2\n",
    "%pylab inline\n",
    "%config InlineBackend.figure_format = 'svg'"
   ]
  },
  {
   "cell_type": "markdown",
   "id": "0d641067",
   "metadata": {},
   "source": [
    "## Environment 🌎"
   ]
  },
  {
   "cell_type": "code",
   "execution_count": null,
   "id": "f9e2d9af",
   "metadata": {},
   "outputs": [],
   "source": [
    "import gymnasium as gym\n",
    "env = gym.make('CartPole-v1')"
   ]
  },
  {
   "cell_type": "markdown",
   "id": "94ee7f4c",
   "metadata": {},
   "source": [
    "## Hyperparameters"
   ]
  },
  {
   "cell_type": "code",
   "execution_count": null,
   "id": "3529b3ad",
   "metadata": {},
   "outputs": [],
   "source": [
    "# Bad hyper-parameters\n",
    "hparams = {\n",
    "    'learning_rate': 9.214691713730938e-05,\n",
    "    'discount_factor': 0.99,\n",
    "    'batch_size': 32,\n",
    "    'memory_size': 10000,\n",
    "    'freq_steps_train': 16,\n",
    "    'freq_steps_update_target': 1000,\n",
    "    'n_steps_warm_up_memory': 1000,\n",
    "    'n_gradient_steps': 1,\n",
    "    'max_grad_norm': 1,\n",
    "    'normalize_state': True,\n",
    "    'epsilon_start': 0.9,\n",
    "    'epsilon_end': 0.08474621504763855,\n",
    "    'steps_epsilon_decay': 100000\n",
    "}\n",
    "\n",
    "SEED = 4291201652"
   ]
  },
  {
   "cell_type": "markdown",
   "id": "a55aaaf9",
   "metadata": {},
   "source": [
    "## ⚠️ Fix random seeds"
   ]
  },
  {
   "cell_type": "code",
   "execution_count": null,
   "id": "182fd0cb",
   "metadata": {},
   "outputs": [],
   "source": [
    "from src.utils import set_seed\n",
    "set_seed(env, SEED)"
   ]
  },
  {
   "cell_type": "markdown",
   "id": "9e66b624",
   "metadata": {},
   "source": [
    "## QAgent"
   ]
  },
  {
   "cell_type": "code",
   "execution_count": null,
   "id": "468c6198",
   "metadata": {},
   "outputs": [],
   "source": [
    "from src.q_agent import QAgent\n",
    "agent = QAgent(env, **hparams)"
   ]
  },
  {
   "cell_type": "markdown",
   "id": "b7ea0349",
   "metadata": {},
   "source": [
    "## Train the agent 🏋️"
   ]
  },
  {
   "cell_type": "code",
   "execution_count": null,
   "id": "c4f38369",
   "metadata": {},
   "outputs": [],
   "source": [
    "from src.loops import train\n",
    "train(agent, env, n_episodes=2000)"
   ]
  },
  {
   "cell_type": "markdown",
   "id": "be898706",
   "metadata": {},
   "source": [
    "## Evaluate the agent ⏱️"
   ]
  },
  {
   "cell_type": "code",
   "execution_count": null,
   "id": "33d1b15e",
   "metadata": {},
   "outputs": [],
   "source": [
    "from src.loops import evaluate\n",
    "rewards, steps = evaluate(\n",
    "    agent, env,\n",
    "    n_episodes=1000,\n",
    "    epsilon=0.01\n",
    ")"
   ]
  },
  {
   "cell_type": "code",
   "execution_count": null,
   "id": "8b94d4c2",
   "metadata": {},
   "outputs": [],
   "source": [
    "reward_avg = np.array(rewards).mean()\n",
    "reward_std = np.array(rewards).std()\n",
    "print(f'Reward average {reward_avg:.2f}, std {reward_std:.2f}')"
   ]
  },
  {
   "cell_type": "markdown",
   "id": "6a672313",
   "metadata": {},
   "source": [
    "## Let's see how far we got in each attempt"
   ]
  },
  {
   "cell_type": "code",
   "execution_count": null,
   "id": "1a878fcf",
   "metadata": {},
   "outputs": [],
   "source": [
    "import matplotlib.pyplot as plt\n",
    "import pandas as pd\n",
    "\n",
    "fig, ax = plt.subplots(figsize = (10, 4))\n",
    "ax.set_title(\"Rewards\")    \n",
    "pd.Series(rewards).plot(kind='hist', bins=100)\n",
    "\n",
    "plt.show()"
   ]
  }
 ],
 "metadata": {
  "kernelspec": {
   "display_name": "Python 3 (ipykernel)",
   "language": "python",
   "name": "python3"
  }
 },
 "nbformat": 4,
 "nbformat_minor": 5
}
