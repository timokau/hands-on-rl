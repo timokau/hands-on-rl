{
 "cells": [
  {
   "cell_type": "markdown",
   "id": "3beb749c",
   "metadata": {},
   "source": [
    "# 10 Homework 🏋️🏋️🏋️"
   ]
  },
  {
   "cell_type": "markdown",
   "id": "0ae57269",
   "metadata": {},
   "source": [
    "## Challenge"
   ]
  },
  {
   "cell_type": "markdown",
   "id": "7bbb7b9f",
   "metadata": {},
   "source": [
    "If you carefully look at `sample_hyper_parameters()` in `src/optimize_hyperparameters.py` you will see I did not let Optuna test different neural network architectures.\n",
    "\n",
    "I set `nn_hidden_layers = [256, 256]` and that was it.\n",
    "\n",
    "I dare you find the smallest neural network architecture that solves the `CartPole` perfectly."
   ]
  },
  {
   "cell_type": "markdown",
   "id": "b2f3bf26",
   "metadata": {},
   "source": [
    "## Send your solution through\n",
    "\n",
    "- a pull request or\n",
    "- direcly by email at `plabartabajo@gmail.com`"
   ]
  }
 ],
 "metadata": {
  "kernelspec": {
   "display_name": "Python 3 (ipykernel)",
   "language": "python",
   "name": "python3"
  }
 },
 "nbformat": 4,
 "nbformat_minor": 5
}
