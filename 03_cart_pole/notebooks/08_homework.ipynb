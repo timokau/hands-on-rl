{
 "cells": [
  {
   "cell_type": "markdown",
   "id": "59ed9f6d",
   "metadata": {},
   "source": [
    "# 08 Homework 🏋️🏋️🏋️"
   ]
  },
  {
   "cell_type": "markdown",
   "id": "16422020",
   "metadata": {},
   "source": [
    "#### 👉A course without homework is not a course!\n",
    "\n",
    "#### 👉Spend some time thinking and trying to implement the challenges I propose here."
   ]
  },
  {
   "cell_type": "markdown",
   "id": "e45e3b38",
   "metadata": {},
   "source": [
    "# `plabartabajo@gmail.com`"
   ]
  },
  {
   "cell_type": "markdown",
   "id": "61aaefa2",
   "metadata": {},
   "source": [
    "-----"
   ]
  },
  {
   "cell_type": "markdown",
   "id": "2a1a91fd",
   "metadata": {},
   "source": [
    "### 1. Re-train the neural networks from `05_crash_course_on_neural_nets.ipynb` with a larger training set, e.g. `10,000 samples`?\n",
    "\n",
    "👉Do the validation metrics improve?\n",
    "\n",
    "👉Did you manage to get to 95% validation accuracy?"
   ]
  },
  {
   "cell_type": "markdown",
   "id": "d9e0f9df",
   "metadata": {},
   "source": [
    "## 2. Can you perfectly solve the `Cart Pole` environment using a neural network with only 1 hidden layer?\n",
    "\n",
    "\n",
    "![](https://github.com/Paulescu/hands-on-rl/blob/main/03_cart_pole/images/neural_net_homework.jpg?raw=true)"
   ]
  }
 ],
 "metadata": {
  "kernelspec": {
   "display_name": "Python 3 (ipykernel)",
   "language": "python",
   "name": "python3"
  }
 },
 "nbformat": 4,
 "nbformat_minor": 5
}
