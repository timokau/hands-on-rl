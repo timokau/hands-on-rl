{
 "cells": [
  {
   "cell_type": "markdown",
   "id": "d3903382",
   "metadata": {},
   "source": [
    "# 08 Homework 🏋️🏋️🏋️"
   ]
  },
  {
   "cell_type": "markdown",
   "id": "afb8dfe3",
   "metadata": {},
   "source": [
    "#### 👉A course without homework is not a course!\n",
    "\n",
    "#### 👉Spend some time thinking and trying to implement the challenges I propose here."
   ]
  },
  {
   "cell_type": "markdown",
   "id": "9685affc",
   "metadata": {},
   "source": [
    "# `plabartabajo@gmail.com`"
   ]
  },
  {
   "cell_type": "markdown",
   "id": "7839ffe8",
   "metadata": {},
   "source": [
    "-----"
   ]
  },
  {
   "cell_type": "markdown",
   "id": "21edb4a2",
   "metadata": {},
   "source": [
    "### 1. Re-train the neural networks from `05_crash_course_on_neural_nets.ipynb` with a larger training set, e.g. `10,000 samples`?\n",
    "\n",
    "👉Do the validation metrics improve?\n",
    "\n",
    "👉Did you manage to get to 95% validation accuracy?"
   ]
  },
  {
   "cell_type": "markdown",
   "id": "e5c45b80",
   "metadata": {},
   "source": [
    "## 2. Can you perfectly solve the `Cart Pole` environment using a neural network with only 1 hidden layer?\n",
    "\n",
    "\n",
    "![](https://github.com/Paulescu/hands-on-rl/blob/main/03_cart_pole/images/neural_net_homework.jpg?raw=true)"
   ]
  }
 ],
 "metadata": {
  "kernelspec": {
   "display_name": "Python 3 (ipykernel)",
   "language": "python",
   "name": "python3"
  }
 },
 "nbformat": 4,
 "nbformat_minor": 5
}
