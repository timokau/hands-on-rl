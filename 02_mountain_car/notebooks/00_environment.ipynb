{
 "cells": [
  {
   "cell_type": "markdown",
   "id": "050b9b70",
   "metadata": {},
   "source": [
    "# 00 Environment"
   ]
  },
  {
   "cell_type": "markdown",
   "id": "d0260354",
   "metadata": {},
   "source": [
    "#### 👉Before you solve a Reinforcement Learning problem you need to define what are\n",
    "- the actions\n",
    "- the states of the world\n",
    "- the rewards\n",
    "\n",
    "#### 👉`MountainCar-v0` is still an easy environment, but harder than `Taxi-v3`, which we solved in [part 1](https://github.com/Paulescu/hands-on-rl/tree/main/01_taxi) of the course.\n",
    "\n",
    "#### 👉`MountainCar-v0` is **not** a tabular environment (i.e. tabular = finite number of actions and states), but with a small trick it can become one. This is why I say it is **still an easy environment**.\n",
    "\n",
    "#### 👉Let's explore it!"
   ]
  },
  {
   "cell_type": "code",
   "execution_count": null,
   "id": "1fb44b3f",
   "metadata": {},
   "outputs": [],
   "source": [
    "%load_ext autoreload\n",
    "%autoreload 2\n",
    "%pylab inline\n",
    "%config InlineBackend.figure_format = 'svg'\n",
    "\n",
    "from matplotlib import pyplot as plt\n",
    "%matplotlib inline"
   ]
  },
  {
   "cell_type": "markdown",
   "id": "b8ce2048",
   "metadata": {},
   "source": [
    "## Load the environment 🌎"
   ]
  },
  {
   "cell_type": "code",
   "execution_count": null,
   "id": "42954f3c",
   "metadata": {
    "lines_to_next_cell": 2
   },
   "outputs": [],
   "source": [
    "import gymnasium as gym\n",
    "env = gym.make('MountainCar-v0', render_mode='rgb_array')"
   ]
  },
  {
   "cell_type": "markdown",
   "id": "b3dfcf42",
   "metadata": {},
   "source": [
    "## Plot it 🎨"
   ]
  },
  {
   "cell_type": "code",
   "execution_count": null,
   "id": "baf4e978",
   "metadata": {},
   "outputs": [],
   "source": [
    "# Workaround for pygame error: \"error: No available video device\"\n",
    "# See https://stackoverflow.com/questions/15933493/pygame-error-no-available-video-device?rq=1\n",
    "# This is probably needed only for Linux\n",
    "import os\n",
    "os.environ[\"SDL_VIDEODRIVER\"] = \"dummy\"\n",
    "_, _ = env.reset()\n",
    "frame = env.render()\n",
    "\n",
    "fig, ax = plt.subplots(figsize=(8, 6))\n",
    "ax.axes.yaxis.set_visible(False)\n",
    "ax.imshow(frame, extent=[env.min_position, env.max_position, 0, 1])"
   ]
  },
  {
   "cell_type": "markdown",
   "id": "1f86fe37",
   "metadata": {},
   "source": [
    "## Action space\n",
    "\n",
    "- `0` Accelerate to the left\n",
    "- `1` Don't accelerate\n",
    "- `2` Accelerate to the right"
   ]
  },
  {
   "cell_type": "code",
   "execution_count": null,
   "id": "ef03d232",
   "metadata": {},
   "outputs": [],
   "source": [
    "print(\"Action Space {}\".format(env.action_space))"
   ]
  },
  {
   "cell_type": "markdown",
   "id": "9022a280",
   "metadata": {},
   "source": [
    "## State space"
   ]
  },
  {
   "cell_type": "code",
   "execution_count": null,
   "id": "3ee602a6",
   "metadata": {},
   "outputs": [],
   "source": [
    "# The state consists of 2 numbers:\n",
    "# - Car's position, from -1.2 to 0.6\n",
    "# - Car's velocity, from -0.07 to 0.07\n",
    "print(\"State Space {}\".format(env.observation_space))\n",
    "\n",
    "print(f'Position ranges from {env.min_position} to {env.max_position}')\n",
    "print(f'Velocity ranges from {-env.max_speed} to {env.max_speed}')"
   ]
  },
  {
   "cell_type": "markdown",
   "id": "8e423cca",
   "metadata": {},
   "source": [
    "## Rewards\n",
    "\n",
    "- A reward of -1 is awarded if the position of the car is less than 0.5.\n",
    "- The episode ends once the car's position is above 0.5, or the max number of steps has been reached: `n_steps >= env._max_episode_steps`\n",
    "\n",
    "A default negative reward of -1 encourages the car to escape the valley as fast as possible."
   ]
  },
  {
   "cell_type": "code",
   "execution_count": null,
   "id": "85449811",
   "metadata": {},
   "outputs": [],
   "source": []
  }
 ],
 "metadata": {
  "kernelspec": {
   "display_name": "Python 3 (ipykernel)",
   "language": "python",
   "name": "python3"
  }
 },
 "nbformat": 4,
 "nbformat_minor": 5
}
