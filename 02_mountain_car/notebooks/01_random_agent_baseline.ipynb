{
 "cells": [
  {
   "cell_type": "markdown",
   "id": "0c3cda09",
   "metadata": {},
   "source": [
    "# 01 Random agent baseline\n",
    "\n",
    "#### 👉Before you try to solve a Reinforcement Learning problem you should get a grasp of its difficulty.\n",
    "\n",
    "#### 👉 To do so, you need to design a dummy agent that can peform the task without much brains, and evaluate its performance.\n",
    "\n",
    "#### 👉A simple way to do so is by using a Random Agent, that chooses its next action randomly, without paying attention at the current state of the environment."
   ]
  },
  {
   "cell_type": "code",
   "execution_count": null,
   "id": "4a04cd17",
   "metadata": {},
   "outputs": [],
   "source": [
    "%load_ext autoreload\n",
    "%autoreload 2\n",
    "%pylab inline\n",
    "%config InlineBackend.figure_format = 'svg'"
   ]
  },
  {
   "cell_type": "markdown",
   "id": "169c8742",
   "metadata": {},
   "source": [
    "## Environment 🌎"
   ]
  },
  {
   "cell_type": "code",
   "execution_count": null,
   "id": "abb04313",
   "metadata": {
    "lines_to_next_cell": 2
   },
   "outputs": [],
   "source": [
    "import gymnasium as gym\n",
    "env = gym.make('MountainCar-v0', max_episode_steps=1000, render_mode=None)"
   ]
  },
  {
   "cell_type": "markdown",
   "id": "38e0583b",
   "metadata": {},
   "source": [
    "## Random agent 🤖🍷"
   ]
  },
  {
   "cell_type": "code",
   "execution_count": null,
   "id": "bd1eb972",
   "metadata": {},
   "outputs": [],
   "source": [
    "# If this import fails, run this in your shell and relaunch jupyter:\n",
    "# `export PYTHONPATH=\"..\"`\n",
    "from src.random_agent import RandomAgent\n",
    "agent = RandomAgent(env)\n",
    "\n",
    "from src.loops import evaluate\n",
    "n_episodes = 100\n",
    "rewards, max_positions = evaluate(agent, env, n_episodes)"
   ]
  },
  {
   "cell_type": "markdown",
   "id": "ec3f01d8",
   "metadata": {},
   "source": [
    "## And the success rate is... bad..."
   ]
  },
  {
   "cell_type": "code",
   "execution_count": null,
   "id": "2a11d6d5",
   "metadata": {},
   "outputs": [],
   "source": [
    "n_completed = sum([1 if m > 0.5 else 0 for m in max_positions])\n",
    "print(f'{n_completed} success out of {n_episodes} attempts')"
   ]
  },
  {
   "cell_type": "markdown",
   "id": "60a28eba",
   "metadata": {},
   "source": [
    "## Let's see how far we got in each attempt"
   ]
  },
  {
   "cell_type": "code",
   "execution_count": null,
   "id": "75ec06ff",
   "metadata": {},
   "outputs": [],
   "source": [
    "import matplotlib.pyplot as plt\n",
    "import pandas as pd\n",
    "\n",
    "\n",
    "fig, ax = plt.subplots(figsize = (10, 4))\n",
    "ax.set_title(\"Max position reached by the car\")    \n",
    "ax.set(xlim=(-0.5, 0.6), xticks=np.arange(-0.5, 0.6, 0.1))\n",
    "pd.Series(max_positions).plot(kind='hist', bins=100)\n",
    "\n",
    "plt.show()"
   ]
  },
  {
   "cell_type": "markdown",
   "id": "8cbf7be6",
   "metadata": {},
   "source": [
    "## Let's see our agent in action 🎬"
   ]
  },
  {
   "cell_type": "code",
   "execution_count": null,
   "id": "27bfef4f",
   "metadata": {
    "lines_to_next_cell": 0
   },
   "outputs": [],
   "source": [
    "# Workaround for pygame error: \"error: No available video device\"\n",
    "# See https://stackoverflow.com/questions/15933493/pygame-error-no-available-video-device?rq=1\n",
    "# This is probably needed only for Linux\n",
    "import os\n",
    "os.environ[\"SDL_VIDEODRIVER\"] = \"dummy\"\n",
    "from src.viz import show_video\n",
    "\n",
    "# Create a new env with rendering enabled. Slows down the environment.\n",
    "env = gym.make('MountainCar-v0', max_episode_steps=1000, render_mode='rgb_array')\n",
    "show_video(agent, env, sleep_sec=0.01)"
   ]
  },
  {
   "cell_type": "code",
   "execution_count": null,
   "id": "8c3518b3",
   "metadata": {
    "lines_to_next_cell": 2
   },
   "outputs": [],
   "source": []
  }
 ],
 "metadata": {
  "kernelspec": {
   "display_name": "src-a5jWQe4R-py3.12",
   "language": "python",
   "name": "python3"
  }
 },
 "nbformat": 4,
 "nbformat_minor": 5
}
