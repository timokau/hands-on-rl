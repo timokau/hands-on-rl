{
 "cells": [
  {
   "cell_type": "markdown",
   "id": "11a4fdb3",
   "metadata": {},
   "source": [
    "# 04 Homework 🏋️🏋️🏋️"
   ]
  },
  {
   "cell_type": "markdown",
   "id": "4e0ba6b7",
   "metadata": {},
   "source": [
    "#### 👉A course without homework is not a course!\n",
    "\n",
    "#### 👉Spend some time thinking and trying to implement the challenges I propose here."
   ]
  },
  {
   "cell_type": "markdown",
   "id": "035925fc",
   "metadata": {},
   "source": [
    "-----"
   ]
  },
  {
   "cell_type": "markdown",
   "id": "b21649c2",
   "metadata": {},
   "source": [
    "## 1. Can you adjust the hyper-parameters `alpha = 0.1` and `gamma = 0.9` to train a better SARSA agent than mine?\n",
    "\n",
    "Experiment with these 2 hyper-parameters to maximize the agent success rate."
   ]
  },
  {
   "cell_type": "markdown",
   "id": "0568a3f8",
   "metadata": {},
   "source": [
    "## 2. Can you increase the resolution of the discretization?\n",
    "\n",
    "Instead of using round marks of\n",
    "- `0.1` for position\n",
    "- `0.01` for velocity\n",
    "\n",
    "Use 10x:\n",
    "- `0.01` for position\n",
    "- `0.001` for velocity"
   ]
  }
 ],
 "metadata": {
  "kernelspec": {
   "display_name": "Python 3 (ipykernel)",
   "language": "python",
   "name": "python3"
  }
 },
 "nbformat": 4,
 "nbformat_minor": 5
}
