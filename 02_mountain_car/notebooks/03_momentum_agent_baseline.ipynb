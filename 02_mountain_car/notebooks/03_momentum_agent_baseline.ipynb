{
 "cells": [
  {
   "cell_type": "markdown",
   "id": "12097220",
   "metadata": {},
   "source": [
    "# 03 Momentum agent baseline\n",
    "\n",
    "#### 👉Sometimes there are easier paths than RL\n",
    "\n",
    "#### 👉 In the `MountainCar` environment the best policy is *just follow the momentum:*\n",
    "- accelerate right, when the car is moving to the right velocity > 0\n",
    "- accelerate left, when the car is moving to the left velocity <= 0"
   ]
  },
  {
   "cell_type": "code",
   "execution_count": null,
   "id": "22daf8c2",
   "metadata": {},
   "outputs": [],
   "source": [
    "%load_ext autoreload\n",
    "%autoreload 2\n",
    "%pylab inline\n",
    "%config InlineBackend.figure_format = 'svg'"
   ]
  },
  {
   "cell_type": "markdown",
   "id": "1aba7026",
   "metadata": {},
   "source": [
    "## Environment 🌎"
   ]
  },
  {
   "cell_type": "code",
   "execution_count": null,
   "id": "71995f76",
   "metadata": {},
   "outputs": [],
   "source": [
    "import gymnasium as gym\n",
    "env = gym.make('MountainCar-v0', max_episode_steps=1000)"
   ]
  },
  {
   "cell_type": "markdown",
   "id": "43d1fd69",
   "metadata": {},
   "source": [
    "## Momentum agent 🤖"
   ]
  },
  {
   "cell_type": "code",
   "execution_count": null,
   "id": "79ad88e1",
   "metadata": {},
   "outputs": [],
   "source": [
    "from src.momentum_agent import MomentumAgent\n",
    "agent = MomentumAgent(env)\n",
    "\n",
    "from src.loops import evaluate\n",
    "n_episodes = 1000\n",
    "rewards, max_positions = evaluate(agent, env, n_episodes)"
   ]
  },
  {
   "cell_type": "markdown",
   "id": "56921fc9",
   "metadata": {},
   "source": [
    "## And the success rate is... great!"
   ]
  },
  {
   "cell_type": "code",
   "execution_count": null,
   "id": "83505bf2",
   "metadata": {},
   "outputs": [],
   "source": [
    "n_completed = sum([1 if m > 0.5 else 0 for m in max_positions])\n",
    "print(f'{n_completed} success out of {n_episodes} attempts')"
   ]
  },
  {
   "cell_type": "markdown",
   "id": "178fc2ad",
   "metadata": {},
   "source": [
    "## Let's see how far we got in each attempt"
   ]
  },
  {
   "cell_type": "code",
   "execution_count": null,
   "id": "7c0fa04d",
   "metadata": {},
   "outputs": [],
   "source": [
    "import matplotlib.pyplot as plt\n",
    "import pandas as pd\n",
    "\n",
    "fig, ax = plt.subplots(figsize = (10, 4))\n",
    "ax.set_title(\"Max position reached by the car\")    \n",
    "ax.set(xlim=(-0.5, 0.6), xticks=np.arange(-0.5, 0.6, 0.1))\n",
    "pd.Series(max_positions).plot(kind='hist', bins=100)\n",
    "\n",
    "plt.show()"
   ]
  },
  {
   "cell_type": "markdown",
   "id": "9366bc29",
   "metadata": {},
   "source": [
    "## Let's see our agent in action 🎬"
   ]
  },
  {
   "cell_type": "code",
   "execution_count": null,
   "id": "8e3006c3",
   "metadata": {},
   "outputs": [],
   "source": [
    "# Workaround for pygame error: \"error: No available video device\"\n",
    "# See https://stackoverflow.com/questions/15933493/pygame-error-no-available-video-device?rq=1\n",
    "# This is probably needed only for Linux\n",
    "import os\n",
    "os.environ[\"SDL_VIDEODRIVER\"] = \"dummy\"\n",
    "from src.viz import show_video\n",
    "\n",
    "env = gym.make('MountainCar-v0', max_episode_steps=1000, render_mode=\"rgb_array\")\n",
    "show_video(agent, env, sleep_sec=0.01)"
   ]
  },
  {
   "cell_type": "markdown",
   "id": "4173aacc",
   "metadata": {},
   "source": [
    "## And plot the policy 🎨"
   ]
  },
  {
   "cell_type": "code",
   "execution_count": null,
   "id": "b502f4d4",
   "metadata": {
    "lines_to_next_cell": 0
   },
   "outputs": [],
   "source": [
    "import numpy as np\n",
    "from src.viz import plot_policy\n",
    "\n",
    "positions = np.arange(env.min_position, env.max_position, 0.05)\n",
    "velocities = np.arange(-env.max_speed, env.max_speed, 0.005)\n",
    "plot_policy(agent, positions, velocities)"
   ]
  },
  {
   "cell_type": "code",
   "execution_count": null,
   "id": "86114244",
   "metadata": {
    "lines_to_next_cell": 2
   },
   "outputs": [],
   "source": []
  }
 ],
 "metadata": {
  "kernelspec": {
   "display_name": "src-a5jWQe4R-py3.12",
   "language": "python",
   "name": "python3"
  }
 },
 "nbformat": 4,
 "nbformat_minor": 5
}
