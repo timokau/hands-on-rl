{
 "cells": [
  {
   "cell_type": "markdown",
   "id": "64699f78",
   "metadata": {},
   "source": [
    "# 04 Homework 🏋️🏋️🏋️"
   ]
  },
  {
   "cell_type": "markdown",
   "id": "9236b588",
   "metadata": {},
   "source": [
    "#### 👉A course without homework is not a course!\n",
    "\n",
    "#### 👉Spend some time thinking and trying to implement the challenges I propose here."
   ]
  },
  {
   "cell_type": "markdown",
   "id": "c23db0c6",
   "metadata": {},
   "source": [
    "-----"
   ]
  },
  {
   "cell_type": "markdown",
   "id": "3811fb31",
   "metadata": {},
   "source": [
    "## 1. Can you update the function `train` in a way that the input `epsilon` can also be a callable function?\n",
    "\n",
    "An `epsilon` value that decays after each episode works better than a fixed `epsilon` for most RL problems.\n",
    "\n",
    "This is hard exercise, but I want you to give it a try.\n",
    "\n",
    "If you do not manage it, do not worry. We are going to implement this in an upcoming lesson."
   ]
  },
  {
   "cell_type": "markdown",
   "id": "270ba9e0",
   "metadata": {},
   "source": [
    "-----"
   ]
  },
  {
   "cell_type": "markdown",
   "id": "9feef877",
   "metadata": {},
   "source": [
    "## 2. Can you parallelize the function `train_many_runs` using Python's `multiprocessing` module?\n",
    "\n",
    "I do not like to wait and stare at each progress bar, while I think that each run in `train_many_runs` could execute\n",
    "in parallel.\n",
    "\n",
    "Create a new function called `train_many_runs_in_parallel` that outputs the same results as `train_many_runs` but that executes in a fraction of time."
   ]
  }
 ],
 "metadata": {
  "kernelspec": {
   "display_name": "Python 3 (ipykernel)",
   "language": "python",
   "name": "python3"
  }
 },
 "nbformat": 4,
 "nbformat_minor": 5
}
